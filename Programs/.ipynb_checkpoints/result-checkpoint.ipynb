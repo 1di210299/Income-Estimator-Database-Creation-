{
 "cells": [
  {
   "cell_type": "code",
   "execution_count": null,
   "metadata": {},
   "outputs": [],
   "source": [
    "import pandas as pd\n",
    "import numpy as np\n",
    "\n",
    "# Lee las bases de datos Excel en DataFrames\n",
    "df1 = pd.read_excel('../Results//concatenacion_2018.xlsx')\n",
    "df2 = pd.read_excel('../Result/concatenacion_2019.xlsx')\n",
    "\n",
    "# Concatena los DataFrames\n",
    "resultado_concatenado = pd.concat([df1, df2], axis=0, ignore_index=True)\n",
    "\n",
    "# Guarda el nuevo DataFrame concatenado en un nuevo archivo Excel\n",
    "final_result=resultado_concatenado.to_excel('enaho_procesado_18_19.xlsx', index=False)\n",
    "\n"
   ]
  },
  {
   "cell_type": "markdown",
   "metadata": {},
   "source": [
    "## **SUMMARY STATISTICS**"
   ]
  },
  {
   "cell_type": "code",
   "execution_count": null,
   "metadata": {},
   "outputs": [],
   "source": [
    "excel_filename = 'enaho_procesado_18_19.xlsx'\n",
    "\n",
    "# Calcular summary statistics y guardar en Excel\n",
    "summary_statistics = df_final.describe()\n",
    "summary_statistics.to_excel(excel_filename)\n"
   ]
  },
  {
   "cell_type": "code",
   "execution_count": null,
   "metadata": {},
   "outputs": [],
   "source": [
    "import pandas as pd\n",
    "\n",
    "# Supongamos que tienes un DataFrame llamado 'datos' con columnas 'año' e 'ingresos_mensuales'\n",
    "result_a = datos.groupby('año')['ingresos_mensuales'].agg(['mean', 'min', 'max'])\n",
    "\n",
    "result_b = datos.groupby(['año', 'male'])['ingresos_mensuales'].agg(['mean', 'min', 'max'])\n",
    "\n",
    "result_c = datos.groupby(['informalidad', 'male'])['ingresos_mensuales'].agg(['mean', 'min', 'max'])\n",
    "\n",
    "result_d = datos.groupby('informalidad')['edad'].mean()\n"
   ]
  },
  {
   "cell_type": "markdown",
   "metadata": {},
   "source": []
  }
 ],
 "metadata": {
  "kernelspec": {
   "display_name": "Python 3 (ipykernel)",
   "language": "python",
   "name": "python3"
  },
  "language_info": {
   "codemirror_mode": {
    "name": "ipython",
    "version": 3
   },
   "file_extension": ".py",
   "mimetype": "text/x-python",
   "name": "python",
   "nbconvert_exporter": "python",
   "pygments_lexer": "ipython3",
   "version": "3.11.5"
  }
 },
 "nbformat": 4,
 "nbformat_minor": 2
}
